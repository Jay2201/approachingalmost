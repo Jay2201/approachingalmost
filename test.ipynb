{
 "cells": [
  {
   "cell_type": "code",
   "execution_count": 7,
   "metadata": {},
   "outputs": [],
   "source": [
    "import pandas as pd\n",
    "import numpy as np\n",
    "import PyPDF4\n",
    "import fitz"
   ]
  },
  {
   "cell_type": "code",
   "execution_count": 9,
   "metadata": {},
   "outputs": [],
   "source": [
    "pdf_document = fitz.open(\"./wordpress-pdf-invoice-plugin-sample.pdf\")\n",
    "for current_page in range(len(pdf_document)):\n",
    "    for image in pdf_document.getPageImageList(current_page):\n",
    "        xref = image[0]\n",
    "        pix = fitz.Pixmap(pdf_document, xref)\n",
    "        if pix.n < 5:        # this is GRAY or RGB\n",
    "            pix.writePNG(\"page%s-%s.png\" % (current_page, xref))\n",
    "        else:                # CMYK: convert to RGB first\n",
    "            pix1 = fitz.Pixmap(fitz.csRGB, pix)\n",
    "            pix1.writePNG(\"page%s-%s.png\" % (current_page, xref))\n",
    "            pix1 = None\n",
    "        pix = None"
   ]
  },
  {
   "cell_type": "code",
   "execution_count": 11,
   "metadata": {},
   "outputs": [
    {
     "name": "stdout",
     "output_type": "stream",
     "text": [
      "\n"
     ]
    }
   ],
   "source": [
    "FILE_PATH = \"./scan.pdf\"\n",
    "\n",
    "with open(FILE_PATH, mode='rb') as f:\n",
    "    reader = PyPDF4.PdfFileReader(f, strict=False)\n",
    "    page = reader.getPage(0)\n",
    "    print(page.extractText())"
   ]
  },
  {
   "cell_type": "code",
   "execution_count": null,
   "metadata": {},
   "outputs": [],
   "source": []
  }
 ],
 "metadata": {
  "kernelspec": {
   "display_name": "Python 3",
   "language": "python",
   "name": "python3"
  },
  "language_info": {
   "codemirror_mode": {
    "name": "ipython",
    "version": 3
   },
   "file_extension": ".py",
   "mimetype": "text/x-python",
   "name": "python",
   "nbconvert_exporter": "python",
   "pygments_lexer": "ipython3",
   "version": "3.8.3"
  }
 },
 "nbformat": 4,
 "nbformat_minor": 4
}
